{
 "cells": [
  {
   "cell_type": "code",
   "execution_count": 23,
   "metadata": {},
   "outputs": [
    {
     "data": {
      "text/html": [
       "<div>\n",
       "<style scoped>\n",
       "    .dataframe tbody tr th:only-of-type {\n",
       "        vertical-align: middle;\n",
       "    }\n",
       "\n",
       "    .dataframe tbody tr th {\n",
       "        vertical-align: top;\n",
       "    }\n",
       "\n",
       "    .dataframe thead th {\n",
       "        text-align: right;\n",
       "    }\n",
       "</style>\n",
       "<table border=\"1\" class=\"dataframe\">\n",
       "  <thead>\n",
       "    <tr style=\"text-align: right;\">\n",
       "      <th></th>\n",
       "      <th>mutant</th>\n",
       "    </tr>\n",
       "  </thead>\n",
       "  <tbody>\n",
       "    <tr>\n",
       "      <th>0</th>\n",
       "      <td>V1D</td>\n",
       "    </tr>\n",
       "    <tr>\n",
       "      <th>1</th>\n",
       "      <td>V1Y</td>\n",
       "    </tr>\n",
       "    <tr>\n",
       "      <th>2</th>\n",
       "      <td>V1C</td>\n",
       "    </tr>\n",
       "    <tr>\n",
       "      <th>3</th>\n",
       "      <td>V1A</td>\n",
       "    </tr>\n",
       "    <tr>\n",
       "      <th>4</th>\n",
       "      <td>V1E</td>\n",
       "    </tr>\n",
       "  </tbody>\n",
       "</table>\n",
       "</div>"
      ],
      "text/plain": [
       "  mutant\n",
       "0    V1D\n",
       "1    V1Y\n",
       "2    V1C\n",
       "3    V1A\n",
       "4    V1E"
      ]
     },
     "execution_count": 23,
     "metadata": {},
     "output_type": "execute_result"
    }
   ],
   "source": [
    "import pandas as pd\n",
    "import zipfile\n",
    "import os\n",
    "import sys\n",
    "import numpy as np\n",
    "\n",
    "train_file = 'train.csv'\n",
    "train_df = pd.read_csv(train_file)\n",
    "test_file = 'test.csv'\n",
    "test_df = pd.read_csv(test_file)\n",
    "query1 = pd.read_csv('query1.csv')\n",
    "query2 = pd.read_csv('query2.csv')\n",
    "\n",
    "test_df.head()\n"
   ]
  },
  {
   "cell_type": "code",
   "execution_count": 17,
   "metadata": {},
   "outputs": [
    {
     "name": "stdout",
     "output_type": "stream",
     "text": [
      "596\n"
     ]
    },
    {
     "name": "stderr",
     "output_type": "stream",
     "text": [
      "/var/folders/z2/_0c1fw_d62gfdmm0hfw2lfpr0000gn/T/ipykernel_55540/3233668334.py:6: DeprecationWarning: DataFrameGroupBy.apply operated on the grouping columns. This behavior is deprecated, and in a future version of pandas the grouping columns will be excluded from the operation. Either pass `include_groups=False` to exclude the groupings or explicitly select the grouping columns after groupby to silence this warning.\n",
      "  query_mutants = test_df.groupby('pos').apply(lambda x: x.sample(n=1, random_state=42))\n"
     ]
    }
   ],
   "source": [
    "# query1 and query 2 method\n",
    "test_df['pos'] = test_df['mutant'].str[1:-1].astype(int)\n",
    "test_df['wt'] = test_df['mutant'].str[0]\n",
    "test_df['mut'] = test_df['mutant'].str[-1]\n",
    "\n",
    "query_mutants = test_df.groupby('pos').apply(lambda x: x.sample(n=1, random_state=42))\n",
    "query_mutants = query_mutants['mutant'].tolist()\n",
    "print(len(query_mutants))"
   ]
  },
  {
   "cell_type": "code",
   "execution_count": 28,
   "metadata": {},
   "outputs": [
    {
     "data": {
      "text/html": [
       "<div>\n",
       "<style scoped>\n",
       "    .dataframe tbody tr th:only-of-type {\n",
       "        vertical-align: middle;\n",
       "    }\n",
       "\n",
       "    .dataframe tbody tr th {\n",
       "        vertical-align: top;\n",
       "    }\n",
       "\n",
       "    .dataframe thead th {\n",
       "        text-align: right;\n",
       "    }\n",
       "</style>\n",
       "<table border=\"1\" class=\"dataframe\">\n",
       "  <thead>\n",
       "    <tr style=\"text-align: right;\">\n",
       "      <th></th>\n",
       "      <th>mutant</th>\n",
       "      <th>DMS_score</th>\n",
       "      <th>sequence</th>\n",
       "    </tr>\n",
       "  </thead>\n",
       "  <tbody>\n",
       "    <tr>\n",
       "      <th>0</th>\n",
       "      <td>V1DN556H</td>\n",
       "      <td>1.397420</td>\n",
       "      <td>MDNEARGNSSLNPCLEGSASSGSESSKDSSRCSTPGLDPERHERLR...</td>\n",
       "    </tr>\n",
       "    <tr>\n",
       "      <th>1</th>\n",
       "      <td>N2RA557Q</td>\n",
       "      <td>0.952052</td>\n",
       "      <td>MVREARGNSSLNPCLEGSASSGSESSKDSSRCSTPGLDPERHERLR...</td>\n",
       "    </tr>\n",
       "    <tr>\n",
       "      <th>2</th>\n",
       "      <td>E3KV558Y</td>\n",
       "      <td>1.487349</td>\n",
       "      <td>MVNKARGNSSLNPCLEGSASSGSESSKDSSRCSTPGLDPERHERLR...</td>\n",
       "    </tr>\n",
       "    <tr>\n",
       "      <th>3</th>\n",
       "      <td>A4MT559I</td>\n",
       "      <td>1.709228</td>\n",
       "      <td>MVNEMRGNSSLNPCLEGSASSGSESSKDSSRCSTPGLDPERHERLR...</td>\n",
       "    </tr>\n",
       "    <tr>\n",
       "      <th>4</th>\n",
       "      <td>R5WW560A</td>\n",
       "      <td>1.386366</td>\n",
       "      <td>MVNEAWGNSSLNPCLEGSASSGSESSKDSSRCSTPGLDPERHERLR...</td>\n",
       "    </tr>\n",
       "    <tr>\n",
       "      <th>...</th>\n",
       "      <td>...</td>\n",
       "      <td>...</td>\n",
       "      <td>...</td>\n",
       "    </tr>\n",
       "    <tr>\n",
       "      <th>95</th>\n",
       "      <td>P100KE651A</td>\n",
       "      <td>1.825341</td>\n",
       "      <td>MVNEARGNSSLNPCLEGSASSGSESSKDSSRCSTPGLDPERHERLR...</td>\n",
       "    </tr>\n",
       "    <tr>\n",
       "      <th>96</th>\n",
       "      <td>G101AT652D</td>\n",
       "      <td>1.366558</td>\n",
       "      <td>MVNEARGNSSLNPCLEGSASSGSESSKDSSRCSTPGLDPERHERLR...</td>\n",
       "    </tr>\n",
       "    <tr>\n",
       "      <th>97</th>\n",
       "      <td>S102ME653W</td>\n",
       "      <td>1.293076</td>\n",
       "      <td>MVNEARGNSSLNPCLEGSASSGSESSKDSSRCSTPGLDPERHERLR...</td>\n",
       "    </tr>\n",
       "    <tr>\n",
       "      <th>98</th>\n",
       "      <td>D103CA654E</td>\n",
       "      <td>1.720167</td>\n",
       "      <td>MVNEARGNSSLNPCLEGSASSGSESSKDSSRCSTPGLDPERHERLR...</td>\n",
       "    </tr>\n",
       "    <tr>\n",
       "      <th>99</th>\n",
       "      <td>K104WP655C</td>\n",
       "      <td>1.650216</td>\n",
       "      <td>MVNEARGNSSLNPCLEGSASSGSESSKDSSRCSTPGLDPERHERLR...</td>\n",
       "    </tr>\n",
       "  </tbody>\n",
       "</table>\n",
       "<p>100 rows × 3 columns</p>\n",
       "</div>"
      ],
      "text/plain": [
       "        mutant  DMS_score                                           sequence\n",
       "0     V1DN556H   1.397420  MDNEARGNSSLNPCLEGSASSGSESSKDSSRCSTPGLDPERHERLR...\n",
       "1     N2RA557Q   0.952052  MVREARGNSSLNPCLEGSASSGSESSKDSSRCSTPGLDPERHERLR...\n",
       "2     E3KV558Y   1.487349  MVNKARGNSSLNPCLEGSASSGSESSKDSSRCSTPGLDPERHERLR...\n",
       "3     A4MT559I   1.709228  MVNEMRGNSSLNPCLEGSASSGSESSKDSSRCSTPGLDPERHERLR...\n",
       "4     R5WW560A   1.386366  MVNEAWGNSSLNPCLEGSASSGSESSKDSSRCSTPGLDPERHERLR...\n",
       "..         ...        ...                                                ...\n",
       "95  P100KE651A   1.825341  MVNEARGNSSLNPCLEGSASSGSESSKDSSRCSTPGLDPERHERLR...\n",
       "96  G101AT652D   1.366558  MVNEARGNSSLNPCLEGSASSGSESSKDSSRCSTPGLDPERHERLR...\n",
       "97  S102ME653W   1.293076  MVNEARGNSSLNPCLEGSASSGSESSKDSSRCSTPGLDPERHERLR...\n",
       "98  D103CA654E   1.720167  MVNEARGNSSLNPCLEGSASSGSESSKDSSRCSTPGLDPERHERLR...\n",
       "99  K104WP655C   1.650216  MVNEARGNSSLNPCLEGSASSGSESSKDSSRCSTPGLDPERHERLR...\n",
       "\n",
       "[100 rows x 3 columns]"
      ]
     },
     "execution_count": 28,
     "metadata": {},
     "output_type": "execute_result"
    }
   ],
   "source": [
    "queried"
   ]
  },
  {
   "cell_type": "code",
   "execution_count": 30,
   "metadata": {},
   "outputs": [
    {
     "data": {
      "text/plain": [
       "pos\n",
       "1      1\n",
       "593    1\n",
       "583    1\n",
       "584    1\n",
       "585    1\n",
       "      ..\n",
       "71     1\n",
       "72     1\n",
       "73     1\n",
       "74     1\n",
       "655    1\n",
       "Name: count, Length: 200, dtype: int64"
      ]
     },
     "execution_count": 30,
     "metadata": {},
     "output_type": "execute_result"
    }
   ],
   "source": [
    "queried = pd.concat([query1, query2], ignore_index=True)\n",
    "queried['pos'] = queried['mutant'].str.extract(r'(\\d+)').astype(int)\n",
    "queried['wt'] = queried['mutant'].str[0]\n",
    "queried['mut'] = queried['mutant'].str[-1]\n",
    "pos_counts = queried['pos'].value_counts()\n",
    "pos_counts\n"
   ]
  },
  {
   "cell_type": "code",
   "execution_count": 25,
   "metadata": {},
   "outputs": [
    {
     "data": {
      "text/plain": [
       "pos\n",
       "0      19\n",
       "48     19\n",
       "254    19\n",
       "255    19\n",
       "258    19\n",
       "276    19\n",
       "289    19\n",
       "290    19\n",
       "292    19\n",
       "295    19\n",
       "296    19\n",
       "297    19\n",
       "298    19\n",
       "302    19\n",
       "304    19\n",
       "305    19\n",
       "308    19\n",
       "309    19\n",
       "311    19\n",
       "314    19\n",
       "315    19\n",
       "316    19\n",
       "318    19\n",
       "319    19\n",
       "320    19\n",
       "331    19\n",
       "334    19\n",
       "335    19\n",
       "336    19\n",
       "253    19\n",
       "252    19\n",
       "251    19\n",
       "185    19\n",
       "87     19\n",
       "88     19\n",
       "89     19\n",
       "112    19\n",
       "126    19\n",
       "141    19\n",
       "148    19\n",
       "151    19\n",
       "152    19\n",
       "157    19\n",
       "158    19\n",
       "182    19\n",
       "189    19\n",
       "250    19\n",
       "191    19\n",
       "193    19\n",
       "195    19\n",
       "196    19\n",
       "216    19\n",
       "220    19\n",
       "221    19\n",
       "224    19\n",
       "227    19\n",
       "228    19\n",
       "242    19\n",
       "247    19\n",
       "347    19\n",
       "Name: count, dtype: int64"
      ]
     },
     "execution_count": 25,
     "metadata": {},
     "output_type": "execute_result"
    }
   ],
   "source": [
    "train_df['pos'] = train_df['mutant'].str[1:-1].astype(int)\n",
    "train_df['wt'] = train_df['mutant'].str[0]\n",
    "train_df['mut'] = train_df['mutant'].str[-1]\n",
    "pos_counts = train_df['pos'].value_counts()\n",
    "max(pos_counts)\n",
    "pos_counts\n"
   ]
  },
  {
   "cell_type": "code",
   "execution_count": 18,
   "metadata": {},
   "outputs": [
    {
     "name": "stdout",
     "output_type": "stream",
     "text": [
      "396\n",
      "100\n"
     ]
    }
   ],
   "source": [
    "# query 3 method\n",
    "\n",
    "# option 1. select 100 random mutants\n",
    "# remove previously queried mutants\n",
    "\n",
    "query_mutants = [x for x in query_mutants if x not in query1['mutant'].tolist()]\n",
    "query_mutants = [x for x in query_mutants if x not in query2['mutant'].tolist()]\n",
    "print(len(query_mutants))\n",
    "np.random.seed(42)\n",
    "query_mutants = np.random.choice(query_mutants, 100, replace=False)\n",
    "'''\n",
    "\n",
    "# option 2. find the most underrepresented positions and choose a random mutant from each\n",
    "# get underrepresented positions from training data\n",
    "pos_counts = test_df['pos'].value_counts()\n",
    "pos_counts = pos_counts[pos_counts < 10]\n",
    "# remove previously queried mutants from test_df\n",
    "test_df_filtered = test_df[~test_df['mutant'].isin(query1['mutant'].tolist())]\n",
    "test_df_filtered = test_df_filtered[~test_df_filtered['mutant'].isin(query2['mutant'].tolist())]\n",
    "# get the mutants that are at underrepresented positions\n",
    "query_mutants = test_df_filtered[test_df_filtered['pos'].isin(pos_counts.index)]\n",
    "# choose a random mutant from each position\n",
    "query_mutants = query_mutants.groupby('pos').apply(lambda x: x.sample(n=1, random_state=42))\n",
    "query_mutants = query_mutants['mutant'].tolist()\n",
    "len(query_mutants)\n",
    "# randomly choose 100 mutants\n",
    "np.random.seed(42)\n",
    "query_mutants = np.random.choice(query_mutants, 100, replace=False)\n",
    "'''\n",
    "print(len(query_mutants))"
   ]
  },
  {
   "cell_type": "code",
   "execution_count": 4,
   "metadata": {},
   "outputs": [],
   "source": [
    "with open('query2.txt', 'w') as f:\n",
    "    for mutant in query_mutants:\n",
    "        f.write(mutant + '\\n')"
   ]
  },
  {
   "cell_type": "code",
   "execution_count": 8,
   "metadata": {},
   "outputs": [],
   "source": [
    "train_df['pos'] = train_df['mutant'].str[1:-1].astype(int)\n",
    "train_df['wt'] = train_df['mutant'].str[0]\n",
    "train_df['mut'] = train_df['mutant'].str[-1]\n",
    "\n",
    "pos_var = train_df.groupby('pos')['DMS_score'].var()\n",
    "high_var_pos = pos_var.nlargest(50).index\n",
    "mutant_count = train_df['pos'].value_counts()\n",
    "under_rep_pos = mutant_count.nsmallest(50).index\n",
    "\n",
    "query_cand = train_df[train_df['pos'].isin(high_var_pos.union(under_rep_pos))]\n",
    "query_mutants = query_cand.sample(n=100, random_state=42)['mutant'].tolist()"
   ]
  },
  {
   "cell_type": "code",
   "execution_count": 11,
   "metadata": {},
   "outputs": [
    {
     "name": "stdout",
     "output_type": "stream",
     "text": [
      "['I191N', 'R334N', 'A221N', 'P250M', 'P315Y', 'F319P', 'A112R', 'F189L', 'P276E', 'A112S']\n",
      "100\n"
     ]
    }
   ],
   "source": [
    "print(query_mutants[:10])\n",
    "print(len(query_mutants))"
   ]
  },
  {
   "cell_type": "code",
   "execution_count": 12,
   "metadata": {},
   "outputs": [],
   "source": [
    "with open('query.txt', 'w') as f:\n",
    "    for mutant in query_mutants:\n",
    "        f.write(mutant + '\\n')"
   ]
  }
 ],
 "metadata": {
  "kernelspec": {
   "display_name": "Python 3",
   "language": "python",
   "name": "python3"
  },
  "language_info": {
   "codemirror_mode": {
    "name": "ipython",
    "version": 3
   },
   "file_extension": ".py",
   "mimetype": "text/x-python",
   "name": "python",
   "nbconvert_exporter": "python",
   "pygments_lexer": "ipython3",
   "version": "3.12.0"
  }
 },
 "nbformat": 4,
 "nbformat_minor": 2
}
